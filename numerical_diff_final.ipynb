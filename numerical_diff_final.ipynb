{
 "cells": [
  {
   "cell_type": "markdown",
   "metadata": {},
   "source": [
    "## Численное дифференцирование\n",
    "Функция $f(x)=e^{2x}$ задана на отрезке [0,1].\n",
    "\n",
    "Требуется определить оптимальный шаг дифференцирования $h_{opt}$ при использовании двойной точности (64 бита) для формул, приведённых ниже."
   ]
  },
  {
   "cell_type": "code",
   "execution_count": null,
   "metadata": {
    "collapsed": true
   },
   "outputs": [],
   "source": [
    "import numpy as np\n",
    "import matplotlib.pyplot as plt\n",
    "%pylab inline\n",
    "\n",
    "type_to_use = 'float64'\n",
    "\n",
    "#\n",
    "def y_(x):\n",
    "    return np.exp(2*x)\n",
    "\n",
    "def dydx_(x,n):\n",
    "    return 2**n*exp(2*x)\n",
    "\n",
    "h_step = []\n",
    "err = []\n",
    "x_min = 0\n",
    "x_max = 1.0\n",
    "\n",
    "def fill_arrays(shift=1, degree=1):\n",
    "    global x\n",
    "    global y\n",
    "    global h_step\n",
    "    global err\n",
    "    h_step = []\n",
    "    err = []\n",
    "    for h in arange(0.01*h_opt, 100.0*h_opt, 0.01*h_opt):\n",
    "        x = np.arange(0 - 2*h, 1000*h_opt + 2*h, h, dtype=type_to_use)\n",
    "        y = y_(x)\n",
    "        dydx = dydx_(x,degree)\n",
    "        dydx = dydx[shift:-shift]\n",
    "        dydx_num = np.array([dydx_num_(y,i,h) for i in range(shift,len(y)-shift)], dtype=type_to_use)\n",
    "        norm = np.max(np.abs(dydx - dydx_num))\n",
    "        h_step.append(h)\n",
    "        err.append(norm)\n",
    "        \n",
    "def plot():\n",
    "    plt.figure(figsize = (12,6))\n",
    "    plt.loglog(h_step, err)\n",
    "    plt.axvline(h_opt, color = 'g', label = '$h_{opt}$ analytical')\n",
    "    plt.axvline(h_step[err.index(min(err))],color = 'r', label='$h_{opt}$ numerical')\n",
    "    plt.legend()\n",
    "    plt.xlabel('step')\n",
    "    plt.ylabel('error')"
   ]
  },
  {
   "cell_type": "markdown",
   "metadata": {},
   "source": [
    "Оцените оптимальный шаг дифференцирования для следующей формулы:\n",
    "\n",
    "$$f'(x)\\approx \\frac{f_n - f_{n-1}}{h}$$"
   ]
  },
  {
   "cell_type": "code",
   "execution_count": null,
   "metadata": {
    "collapsed": true
   },
   "outputs": [],
   "source": [
    "# Предварительно оцените максимальный шаг\n",
    "h_opt = # Insert your code here\n",
    "\n",
    "# Задайте формулу вычисления численной производной в i-м узле\n",
    "# y-indexable, i- натуральное int, h - float64\n",
    "def dydx_num_(y,i,h):\n",
    "    # Insert your code here\n",
    "    return res\n",
    "\n",
    "fill_arrays(shift=1,degree=1)\n",
    "\n",
    "# Уточните оптимальный шаг\n",
    "h_opt = # Insert your code here\n",
    "\n",
    "\n",
    "# Сравните расчитанный и наблюдаемый оптимальный шаг\n",
    "plot()"
   ]
  },
  {
   "cell_type": "markdown",
   "metadata": {},
   "source": [
    "Оцените оптимальный шаг дифференцирования для следующей формулы:\n",
    "\n",
    "$$f'(x)\\approx \\frac{f_{n-2} - 8f_{n-1} + 8f_{n+1} - f_{n+2}}{12h}$$"
   ]
  },
  {
   "cell_type": "code",
   "execution_count": null,
   "metadata": {
    "collapsed": true
   },
   "outputs": [],
   "source": [
    "# Предварительно оцените максимальный шаг\n",
    "h_opt = # Insert your code here\n",
    "\n",
    "# Задайте формулу вычисления численной производной в i-м узле\n",
    "# y-indexable, i- натуральное int, h - float64\n",
    "def dydx_num_(y,i,h):\n",
    "    # Insert your code here\n",
    "    return res\n",
    "\n",
    "fill_arrays(shift=2,degree=1)\n",
    "\n",
    "# Уточните оптимальный шаг\n",
    "h_opt = # Insert your code here\n",
    "\n",
    "\n",
    "# Сравните расчитанный и наблюдаемый оптимальный шаг\n",
    "plot()"
   ]
  },
  {
   "cell_type": "markdown",
   "metadata": {},
   "source": [
    "Оцените оптимальный шаг дифференцирования для следующей формулы:\n",
    "\n",
    "$$f''(x)\\approx \\frac{-f_{n-2} + 16f_{n-1} -30f_n + 16f_{n+1} - f_{n+2}}{12h^2}$$"
   ]
  },
  {
   "cell_type": "code",
   "execution_count": null,
   "metadata": {
    "collapsed": true
   },
   "outputs": [],
   "source": [
    "# Предварительно оцените максимальный шаг\n",
    "h_opt = # Insert your code here\n",
    "\n",
    "# Задайте формулу вычисления численной производной в i-м узле\n",
    "# y-indexable, i- натуральное int, h - float64\n",
    "def dydx_num_(y,i,h):\n",
    "    # Insert your code here\n",
    "    return res\n",
    "\n",
    "fill_arrays(shift=2,degree=2)\n",
    "\n",
    "# Уточните оптимальный шаг\n",
    "h_opt = # Insert your code here\n",
    "\n",
    "\n",
    "# Сравните расчитанный и наблюдаемый оптимальный шаг\n",
    "plot()"
   ]
  },
  {
   "cell_type": "markdown",
   "metadata": {},
   "source": [
    "Какой порядок аппроксимации имеет каждая из указанных формул?"
   ]
  }
 ],
 "metadata": {
  "kernelspec": {
   "display_name": "py3",
   "language": "python",
   "name": "py3"
  },
  "language_info": {
   "codemirror_mode": {
    "name": "ipython",
    "version": 3
   },
   "file_extension": ".py",
   "mimetype": "text/x-python",
   "name": "python",
   "nbconvert_exporter": "python",
   "pygments_lexer": "ipython3",
   "version": "3.5.2"
  }
 },
 "nbformat": 4,
 "nbformat_minor": 0
}
